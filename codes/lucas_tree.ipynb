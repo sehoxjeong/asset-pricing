{
 "cells": [
  {
   "cell_type": "markdown",
   "id": "298d8bfd",
   "metadata": {},
   "source": [
    "# Lucas Tree\n",
    "\n",
    "Seho Jeong, Sogang University"
   ]
  },
  {
   "cell_type": "code",
   "execution_count": 1,
   "id": "9f3f9dd0",
   "metadata": {},
   "outputs": [],
   "source": [
    "import numpy as np\n",
    "import jax\n",
    "import jax.numpy as jnp"
   ]
  },
  {
   "cell_type": "code",
   "execution_count": null,
   "id": "faab31ec",
   "metadata": {},
   "outputs": [],
   "source": []
  }
 ],
 "metadata": {
  "kernelspec": {
   "display_name": "base",
   "language": "python",
   "name": "python3"
  },
  "language_info": {
   "codemirror_mode": {
    "name": "ipython",
    "version": 3
   },
   "file_extension": ".py",
   "mimetype": "text/x-python",
   "name": "python",
   "nbconvert_exporter": "python",
   "pygments_lexer": "ipython3",
   "version": "3.12.7"
  }
 },
 "nbformat": 4,
 "nbformat_minor": 5
}
