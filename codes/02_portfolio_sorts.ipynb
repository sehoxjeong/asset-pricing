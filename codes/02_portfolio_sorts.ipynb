{
 "cells": [
  {
   "cell_type": "markdown",
   "id": "a0e5daaa",
   "metadata": {},
   "source": [
    "# Portfoilo Sorts\n",
    "\n",
    "Seho Jeong, Sogang University\n",
    "\n",
    "References\n",
    "- Tidy Finance. n.d. \"Univariate Portfolio Sorts.\""
   ]
  },
  {
   "cell_type": "code",
   "execution_count": 1,
   "id": "b0d91929",
   "metadata": {},
   "outputs": [],
   "source": [
    "import numpy as np\n",
    "import pandas as pd"
   ]
  },
  {
   "cell_type": "markdown",
   "id": "96eac0c5",
   "metadata": {},
   "source": [
    "## Data Preparation"
   ]
  },
  {
   "cell_type": "markdown",
   "id": "571fbb4d",
   "metadata": {},
   "source": [
    "We start with loading the required data from local workstation. In particular, we use the daily KOSPI and KOSDAQ sample as our asset universe. Once we form our portfolios, we use the Fama-French"
   ]
  },
  {
   "cell_type": "markdown",
   "id": "3e563bd7",
   "metadata": {},
   "source": [
    "## Sorting by Size"
   ]
  },
  {
   "cell_type": "code",
   "execution_count": null,
   "id": "5324a0a9",
   "metadata": {},
   "outputs": [],
   "source": []
  }
 ],
 "metadata": {
  "kernelspec": {
   "display_name": "base",
   "language": "python",
   "name": "python3"
  },
  "language_info": {
   "codemirror_mode": {
    "name": "ipython",
    "version": 3
   },
   "file_extension": ".py",
   "mimetype": "text/x-python",
   "name": "python",
   "nbconvert_exporter": "python",
   "pygments_lexer": "ipython3",
   "version": "3.12.7"
  }
 },
 "nbformat": 4,
 "nbformat_minor": 5
}
