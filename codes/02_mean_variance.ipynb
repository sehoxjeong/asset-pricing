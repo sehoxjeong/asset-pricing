{
 "cells": [
  {
   "cell_type": "markdown",
   "id": "a0e5daaa",
   "metadata": {},
   "source": [
    "# Mean-Variance Analysis\n",
    "\n",
    "Seho Jeong, Sogang University\n",
    "\n",
    "References\n",
    "- Tidy Finance. n.d. \"Modern Portfolio Theory.\""
   ]
  },
  {
   "cell_type": "code",
   "execution_count": 3,
   "id": "b0d91929",
   "metadata": {},
   "outputs": [],
   "source": [
    "import numpy as np\n",
    "import pandas as pd\n",
    "import tidyfinance as tf\n",
    "\n",
    "from plotnine import *\n",
    "from mizani.formatters import percent_format\n",
    "# from adjustText import adjust_text"
   ]
  },
  {
   "cell_type": "markdown",
   "id": "96eac0c5",
   "metadata": {},
   "source": [
    "## The Asset Universe"
   ]
  },
  {
   "cell_type": "markdown",
   "id": "571fbb4d",
   "metadata": {},
   "source": [
    "Suppose that $N$ different risky assets are available to the investor. Each asset $i$ delivers expected returns $\\mu_i$,representing the anticipated profit from holding the asset for one period. The investor can allocate their wealth across these assets by choosing the porfolio weights $w_i$ for each asset $i$"
   ]
  },
  {
   "cell_type": "markdown",
   "id": "3e563bd7",
   "metadata": {},
   "source": [
    "## Sorting by Size"
   ]
  },
  {
   "cell_type": "code",
   "execution_count": null,
   "id": "5324a0a9",
   "metadata": {},
   "outputs": [],
   "source": []
  }
 ],
 "metadata": {
  "kernelspec": {
   "display_name": "base",
   "language": "python",
   "name": "python3"
  },
  "language_info": {
   "codemirror_mode": {
    "name": "ipython",
    "version": 3
   },
   "file_extension": ".py",
   "mimetype": "text/x-python",
   "name": "python",
   "nbconvert_exporter": "python",
   "pygments_lexer": "ipython3",
   "version": "3.12.7"
  }
 },
 "nbformat": 4,
 "nbformat_minor": 5
}
